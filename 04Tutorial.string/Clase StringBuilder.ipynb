{
 "cells": [
  {
   "cell_type": "markdown",
   "metadata": {},
   "source": [
    "# StringBuilder"
   ]
  },
  {
   "cell_type": "markdown",
   "metadata": {},
   "source": [
    "Clase Persona con ejemplo de concatenación de atributos"
   ]
  },
  {
   "cell_type": "code",
   "execution_count": 3,
   "metadata": {},
   "outputs": [],
   "source": [
    "/* Clase auxiliar creada como sugerencia de un alumno */\n",
    "public class Persona\n",
    "{\n",
    "    private String nombre;\n",
    "    private int edad;\n",
    "    \n",
    "    public Persona(String nombre, int edad)\n",
    "    {\n",
    "        this.nombre = nombre;\n",
    "        this.edad = edad;\n",
    "    }\n",
    "    \n",
    "    public String getNombre()\n",
    "    {\n",
    "        return nombre;\n",
    "    }\n",
    "\n",
    "    @Override\n",
    "    public String toString()\n",
    "    {\n",
    "        //Funcionalidad básica de concatenación no optimizada\n",
    "        //return nombre + \"(\" + edad + \")\"; \n",
    "        \n",
    "        //Concatenación optimizada mediante StringBuilder\n",
    "        StringBuilder sb = new StringBuilder();\n",
    "        \n",
    "        //Opción 1: \n",
    "        sb.append(nombre);\n",
    "        sb.append(\"(\");\n",
    "        sb.append(edad);\n",
    "        sb.append(\")\");\n",
    "        \n",
    "        //Opción 2: \n",
    "        //sb.append(nombre).append(\"(\").append(edad).append(\")\");\n",
    "        \n",
    "        //Opción 3 (estético): \n",
    "        /* \n",
    "        sb.append(nombre)\n",
    "          .append(\"(\")\n",
    "          .append(edad)\n",
    "          .append(\")\");\n",
    "        */\n",
    "        \n",
    "        //Opción 4 con clase de apoyo que ayude a la concatención: \n",
    "        //String stringConcatenado = Util.concat(nombre, \"(\", String.valueOf(edad), \")\");\n",
    "        \n",
    "        return sb.toString();\n",
    "    }\n",
    "}"
   ]
  },
  {
   "cell_type": "code",
   "execution_count": 4,
   "metadata": {},
   "outputs": [],
   "source": [
    "Persona p1 = new Persona(\"Luis\", 22);"
   ]
  },
  {
   "cell_type": "markdown",
   "metadata": {},
   "source": [
    "El resultado es el mismo que obteníamos antes, pero de una forma optimizada"
   ]
  },
  {
   "cell_type": "code",
   "execution_count": 5,
   "metadata": {},
   "outputs": [
    {
     "data": {
      "text/plain": [
       "Luis(22)"
      ]
     },
     "execution_count": 5,
     "metadata": {},
     "output_type": "execute_result"
    }
   ],
   "source": [
    "p1.toString()"
   ]
  },
  {
   "cell_type": "markdown",
   "metadata": {},
   "source": [
    "### Ejemplo de automatización de la concatenación"
   ]
  },
  {
   "cell_type": "markdown",
   "metadata": {},
   "source": [
    "A petición de un alumno, se ha creado este ejemplo. Se trata de una clase de apoyo para simplificar la concatenación mediante el uso de argumentos variables: Varargs"
   ]
  },
  {
   "cell_type": "code",
   "execution_count": 6,
   "metadata": {},
   "outputs": [],
   "source": [
    "public class Util\n",
    "{\n",
    "    public static String concat(String ... args)\n",
    "    {\n",
    "        StringBuilder sb = new StringBuilder();\n",
    "        for(String s:args)\n",
    "            sb.append(s);\n",
    "        \n",
    "        return sb.toString();\n",
    "    }\n",
    "}"
   ]
  },
  {
   "cell_type": "code",
   "execution_count": 9,
   "metadata": {},
   "outputs": [
    {
     "data": {
      "text/plain": [
       "Luis (23)"
      ]
     },
     "execution_count": 9,
     "metadata": {},
     "output_type": "execute_result"
    }
   ],
   "source": [
    "Util.concat(\"Luis\", \" (\", String.valueOf(23), \")\");"
   ]
  },
  {
   "cell_type": "code",
   "execution_count": null,
   "metadata": {},
   "outputs": [],
   "source": []
  }
 ],
 "metadata": {
  "kernelspec": {
   "display_name": "Java",
   "language": "java",
   "name": "java"
  },
  "language_info": {
   "codemirror_mode": "java",
   "file_extension": ".jshell",
   "mimetype": "text/x-java-source",
   "name": "Java",
   "pygments_lexer": "java",
   "version": "15.0.2+7-27"
  }
 },
 "nbformat": 4,
 "nbformat_minor": 4
}
