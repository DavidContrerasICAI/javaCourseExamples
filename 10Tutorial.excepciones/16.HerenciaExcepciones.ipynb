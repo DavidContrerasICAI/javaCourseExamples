{
 "cells": [
  {
   "cell_type": "markdown",
   "metadata": {},
   "source": [
    "# Herencia en las excepciones"
   ]
  },
  {
   "cell_type": "markdown",
   "metadata": {},
   "source": [
    "Ejemplo del tratamiento de errores en un contexto de herencia."
   ]
  },
  {
   "cell_type": "markdown",
   "metadata": {},
   "source": [
    "Dadas las siguientes excepciones:"
   ]
  },
  {
   "cell_type": "markdown",
   "metadata": {},
   "source": [
    "### Definición de Excepciones"
   ]
  },
  {
   "cell_type": "code",
   "execution_count": 1,
   "metadata": {},
   "outputs": [],
   "source": [
    "public class E1 extends Exception\n",
    "{\n",
    "    @Override\n",
    "    public String toString()\n",
    "    {\n",
    "        return \"E1\";\n",
    "    }\n",
    "}"
   ]
  },
  {
   "cell_type": "code",
   "execution_count": 2,
   "metadata": {},
   "outputs": [],
   "source": [
    "public class E2 extends E1\n",
    "{\n",
    "    @Override\n",
    "    public String toString()\n",
    "    {\n",
    "        return \"E2\";\n",
    "    }\n",
    "}"
   ]
  },
  {
   "cell_type": "code",
   "execution_count": 3,
   "metadata": {},
   "outputs": [],
   "source": [
    "public class E3 extends Exception\n",
    "{\n",
    "    @Override\n",
    "    public String toString()\n",
    "    {\n",
    "        return \"E3\";\n",
    "    }\n",
    "}"
   ]
  },
  {
   "cell_type": "markdown",
   "metadata": {},
   "source": [
    "### Lanzamiento de las excepciones"
   ]
  },
  {
   "cell_type": "markdown",
   "metadata": {},
   "source": [
    "Y las el lanzamiento de ellas por cualquier clase."
   ]
  },
  {
   "cell_type": "code",
   "execution_count": 4,
   "metadata": {},
   "outputs": [],
   "source": [
    "public class MiClase\n",
    "{\n",
    "    public MiClase(String numero) throws E1, E2, E3, NumberFormatException\n",
    "    {\n",
    "        int i = Integer.parseInt(numero);\n",
    "        if(i==1)\n",
    "            throw new E1();\n",
    "        if(i==2)\n",
    "            throw new E2();\n",
    "        if(i==3)\n",
    "            throw new E3();            \n",
    "    }\n",
    "\n",
    "}"
   ]
  },
  {
   "cell_type": "markdown",
   "metadata": {},
   "source": [
    "### Captura de las excepciones"
   ]
  },
  {
   "cell_type": "markdown",
   "metadata": {},
   "source": [
    "Si el tratamiento se puede generalizar a todas las excepciones:"
   ]
  },
  {
   "cell_type": "code",
   "execution_count": 5,
   "metadata": {},
   "outputs": [
    {
     "name": "stdout",
     "output_type": "stream",
     "text": [
      "E3\r\n"
     ]
    }
   ],
   "source": [
    "try\n",
    "{\n",
    "    MiClase mc = new MiClase(\"3\");\n",
    "}\n",
    "catch(Exception e)\n",
    "{\n",
    "    System.out.println(e);\n",
    "}"
   ]
  },
  {
   "cell_type": "markdown",
   "metadata": {},
   "source": [
    "Si el tratamiento es distinto en función del tipo de objeto en una jerarquía de herencia:"
   ]
  },
  {
   "cell_type": "code",
   "execution_count": 6,
   "metadata": {},
   "outputs": [
    {
     "name": "stdout",
     "output_type": "stream",
     "text": [
      "Tramiento distinto: E3\r\n"
     ]
    }
   ],
   "source": [
    "try\n",
    "{\n",
    "    MiClase mc = new MiClase(\"3\");\n",
    "}\n",
    "catch(E1 e)\n",
    "{\n",
    "    System.out.println(\"Tratamiento general para los objetos de tipo E1: \" + e);\n",
    "}\n",
    "catch(E3 e)\n",
    "{\n",
    "    System.out.println(\"Tramiento distinto: \" + e);\n",
    "}\n",
    "catch(NumberFormatException e)\n",
    "{\n",
    "    System.out.println(\"Número recibido no válido: \" + e);\n",
    "}"
   ]
  },
  {
   "cell_type": "markdown",
   "metadata": {},
   "source": [
    "Si todos los errores lanzados son tratados de forma específica. Lo más importante a destacar aquí es el orden en la captura de los errores. Siempre los específicos deben ser capturados en primer lugar."
   ]
  },
  {
   "cell_type": "code",
   "execution_count": 7,
   "metadata": {},
   "outputs": [
    {
     "name": "stdout",
     "output_type": "stream",
     "text": [
      "Tratamiento particular para los objetos de tipo E2: E2\r\n"
     ]
    }
   ],
   "source": [
    "try\n",
    "{\n",
    "    MiClase mc = new MiClase(\"2\");\n",
    "}\n",
    "catch(E2 e)\n",
    "{\n",
    "    System.out.println(\"Tratamiento particular para los objetos de tipo E2: \" + e);\n",
    "}\n",
    "catch(E1 e)\n",
    "{\n",
    "    System.out.println(\"Tratamiento particular para los objetos de tipo E1: \" + e);\n",
    "}\n",
    "catch(E3 e)\n",
    "{\n",
    "    System.out.println(\"Tratamiento particular para los objetos de tipo E3: \" + e);\n",
    "}\n",
    "catch(NumberFormatException e)\n",
    "{\n",
    "    System.out.println(\"Número recibido no válido: \" + e);\n",
    "}"
   ]
  },
  {
   "cell_type": "markdown",
   "metadata": {},
   "source": [
    "Otro ejemplo de generalización de tratamiento de errores."
   ]
  },
  {
   "cell_type": "code",
   "execution_count": 8,
   "metadata": {},
   "outputs": [
    {
     "name": "stdout",
     "output_type": "stream",
     "text": [
      "Tratamiento particular para los objetos de tipo E2: E2\r\n"
     ]
    }
   ],
   "source": [
    "try\n",
    "{\n",
    "    MiClase mc = new MiClase(\"2\");\n",
    "}\n",
    "catch(E2 e)\n",
    "{\n",
    "    System.out.println(\"Tratamiento particular para los objetos de tipo E2: \" + e);\n",
    "}\n",
    "catch(Exception e)\n",
    "{\n",
    "    System.out.println(\"Tratamiento particular para el resto de los errores: \" + e);\n",
    "}"
   ]
  },
  {
   "cell_type": "markdown",
   "metadata": {},
   "source": [
    "### Lanzamiento y tratamiento en diferentes métodos"
   ]
  },
  {
   "cell_type": "code",
   "execution_count": 9,
   "metadata": {},
   "outputs": [],
   "source": [
    "public class C\n",
    "{\n",
    "    public C() throws E3, E2\n",
    "    {\n",
    "        if(Math.random()>0.5)\n",
    "            throw new E3();\n",
    "        else\n",
    "            throw new E2();\n",
    "    }\n",
    "}"
   ]
  },
  {
   "cell_type": "code",
   "execution_count": 10,
   "metadata": {},
   "outputs": [],
   "source": [
    "public class B\n",
    "{\n",
    "    public B() throws E3, E1\n",
    "    {\n",
    "        try\n",
    "        {\n",
    "            new C();\n",
    "        }\n",
    "        catch(E2 e)\n",
    "        {\n",
    "            System.out.println(e);\n",
    "        }\n",
    "        throw new E1();\n",
    "    }\n",
    "}"
   ]
  },
  {
   "cell_type": "code",
   "execution_count": 11,
   "metadata": {},
   "outputs": [],
   "source": [
    "public class A\n",
    "{\n",
    "    public A() throws E1\n",
    "    {\n",
    "        try\n",
    "        {\n",
    "            new B();\n",
    "        }\n",
    "        catch(E3 e)\n",
    "        {\n",
    "            \n",
    "        }    \n",
    "    }\n",
    "}"
   ]
  },
  {
   "cell_type": "code",
   "execution_count": 12,
   "metadata": {},
   "outputs": [
    {
     "name": "stdout",
     "output_type": "stream",
     "text": [
      "E2\n",
      "E1\n"
     ]
    }
   ],
   "source": [
    "try\n",
    "{\n",
    "    new A();\n",
    "}\n",
    "catch(E1 e)\n",
    "{\n",
    "    System.out.println(e);\n",
    "}"
   ]
  },
  {
   "cell_type": "code",
   "execution_count": null,
   "metadata": {},
   "outputs": [],
   "source": []
  }
 ],
 "metadata": {
  "kernelspec": {
   "display_name": "Java",
   "language": "java",
   "name": "java"
  },
  "language_info": {
   "codemirror_mode": "java",
   "file_extension": ".jshell",
   "mimetype": "text/x-java-source",
   "name": "Java",
   "pygments_lexer": "java",
   "version": "15.0.2+7-27"
  }
 },
 "nbformat": 4,
 "nbformat_minor": 4
}
